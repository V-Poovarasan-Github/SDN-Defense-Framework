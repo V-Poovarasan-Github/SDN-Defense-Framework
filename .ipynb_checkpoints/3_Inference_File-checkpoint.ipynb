{
 "cells": [
  {
   "cell_type": "markdown",
   "metadata": {
    "id": "cAQLfR9rMtEx"
   },
   "source": [
    "### Import Libraries"
   ]
  },
  {
   "cell_type": "code",
   "execution_count": 1,
   "metadata": {
    "executionInfo": {
     "elapsed": 4999,
     "status": "ok",
     "timestamp": 1697526756674,
     "user": {
      "displayName": "Pulavendran S",
      "userId": "09545379829326731753"
     },
     "user_tz": -330
    },
    "id": "G0BtumuvLc4-"
   },
   "outputs": [],
   "source": [
    "import warnings\n",
    "warnings.filterwarnings(\"ignore\")\n",
    "\n",
    "import pandas as pd\n",
    "pd.set_option(\"display.max_columns\", None)\n",
    "import numpy as np\n",
    "import tensorflow\n",
    "from lib_file import lib_path\n",
    "import yagmail\n",
    "import pickle"
   ]
  },
  {
   "cell_type": "markdown",
   "metadata": {
    "id": "4oQ3B89pM6Ch"
   },
   "source": [
    "### Model Loading"
   ]
  },
  {
   "cell_type": "code",
   "execution_count": 2,
   "metadata": {
    "executionInfo": {
     "elapsed": 2554,
     "status": "ok",
     "timestamp": 1697526759225,
     "user": {
      "displayName": "Pulavendran S",
      "userId": "09545379829326731753"
     },
     "user_tz": -330
    },
    "id": "_Chz8ioZLU0U"
   },
   "outputs": [],
   "source": [
    "model = tensorflow.keras.models.load_model(\"models/ConvolutionalLongShortTermMemory_model.h5\", compile=False)"
   ]
  },
  {
   "cell_type": "code",
   "execution_count": 3,
   "metadata": {
    "executionInfo": {
     "elapsed": 1705,
     "status": "ok",
     "timestamp": 1697526760925,
     "user": {
      "displayName": "Pulavendran S",
      "userId": "09545379829326731753"
     },
     "user_tz": -330
    },
    "id": "6e_kdM3WZVdU"
   },
   "outputs": [],
   "source": [
    "with open(file=\"models/Scaler.pkl\", mode=\"rb\") as file:\n",
    "    scaler = pickle.load(file=file)"
   ]
  },
  {
   "cell_type": "code",
   "execution_count": 4,
   "metadata": {
    "executionInfo": {
     "elapsed": 6,
     "status": "ok",
     "timestamp": 1697526760926,
     "user": {
      "displayName": "Pulavendran S",
      "userId": "09545379829326731753"
     },
     "user_tz": -330
    },
    "id": "JoB65Wr9ZVSZ"
   },
   "outputs": [],
   "source": [
    "with open(file=\"models/Important_Columns.pkl\", mode=\"rb\") as file:\n",
    "    imp_cols = pickle.load(file=file)\n",
    "imp_cols.remove('class')"
   ]
  },
  {
   "cell_type": "code",
   "execution_count": 5,
   "metadata": {
    "colab": {
     "base_uri": "https://localhost:8080/"
    },
    "executionInfo": {
     "elapsed": 5,
     "status": "ok",
     "timestamp": 1697526760926,
     "user": {
      "displayName": "Pulavendran S",
      "userId": "09545379829326731753"
     },
     "user_tz": -330
    },
    "id": "81KvL9joaHtV",
    "outputId": "33d89048-9e33-43e8-b218-f643e6f5c192"
   },
   "outputs": [
    {
     "data": {
      "text/html": [
       "<div>\n",
       "<style scoped>\n",
       "    .dataframe tbody tr th:only-of-type {\n",
       "        vertical-align: middle;\n",
       "    }\n",
       "\n",
       "    .dataframe tbody tr th {\n",
       "        vertical-align: top;\n",
       "    }\n",
       "\n",
       "    .dataframe thead th {\n",
       "        text-align: right;\n",
       "    }\n",
       "</style>\n",
       "<table border=\"1\" class=\"dataframe\">\n",
       "  <thead>\n",
       "    <tr style=\"text-align: right;\">\n",
       "      <th></th>\n",
       "      <th>Ip_Addresses</th>\n",
       "    </tr>\n",
       "  </thead>\n",
       "  <tbody>\n",
       "  </tbody>\n",
       "</table>\n",
       "</div>"
      ],
      "text/plain": [
       "Empty DataFrame\n",
       "Columns: [Ip_Addresses]\n",
       "Index: []"
      ]
     },
     "execution_count": 5,
     "metadata": {},
     "output_type": "execute_result"
    }
   ],
   "source": [
    "IP_data = pd.read_csv(\"user_input/IP_data.csv\")\n",
    "IP_data.drop(IP_data.index, axis=0, inplace=True)\n",
    "IP_data.to_csv(\"user_input/IP_data.csv\", index=False)\n",
    "IP_data = pd.read_csv(\"user_input/IP_data.csv\")\n",
    "IP_data"
   ]
  },
  {
   "cell_type": "code",
   "execution_count": 6,
   "metadata": {
    "executionInfo": {
     "elapsed": 3,
     "status": "ok",
     "timestamp": 1697526761340,
     "user": {
      "displayName": "Pulavendran S",
      "userId": "09545379829326731753"
     },
     "user_tz": -330
    },
    "id": "VVdVQap7MZQW"
   },
   "outputs": [],
   "source": [
    "class_labels = ['BENIGN', 'DDos']"
   ]
  },
  {
   "cell_type": "markdown",
   "metadata": {
    "id": "x9NPme89M-GW"
   },
   "source": [
    "### User Input"
   ]
  },
  {
   "cell_type": "code",
   "execution_count": 17,
   "metadata": {
    "colab": {
     "base_uri": "https://localhost:8080/",
     "height": 153
    },
    "executionInfo": {
     "elapsed": 6,
     "status": "ok",
     "timestamp": 1697527343515,
     "user": {
      "displayName": "Pulavendran S",
      "userId": "09545379829326731753"
     },
     "user_tz": -330
    },
    "id": "8UPenTfEMkmW",
    "outputId": "e44065e4-90e9-4d85-f92e-c560c2e64ae5"
   },
   "outputs": [
    {
     "data": {
      "text/html": [
       "<div>\n",
       "<style scoped>\n",
       "    .dataframe tbody tr th:only-of-type {\n",
       "        vertical-align: middle;\n",
       "    }\n",
       "\n",
       "    .dataframe tbody tr th {\n",
       "        vertical-align: top;\n",
       "    }\n",
       "\n",
       "    .dataframe thead th {\n",
       "        text-align: right;\n",
       "    }\n",
       "</style>\n",
       "<table border=\"1\" class=\"dataframe\">\n",
       "  <thead>\n",
       "    <tr style=\"text-align: right;\">\n",
       "      <th></th>\n",
       "      <th>IP</th>\n",
       "      <th>Destination Port</th>\n",
       "      <th>Flow Duration</th>\n",
       "      <th>Total Fwd Packets</th>\n",
       "      <th>Total Backward Packets</th>\n",
       "      <th>Total Length of Fwd Packets</th>\n",
       "      <th>Total Length of Bwd Packets</th>\n",
       "      <th>Fwd Packet Length Max</th>\n",
       "      <th>Fwd Packet Length Min</th>\n",
       "      <th>Fwd Packet Length Mean</th>\n",
       "      <th>Fwd Packet Length Std</th>\n",
       "      <th>Bwd Packet Length Max</th>\n",
       "      <th>Bwd Packet Length Min</th>\n",
       "      <th>Bwd Packet Length Mean</th>\n",
       "      <th>Bwd Packet Length Std</th>\n",
       "      <th>Flow Bytes/s</th>\n",
       "      <th>Flow Packets/s</th>\n",
       "      <th>Flow IAT Mean</th>\n",
       "      <th>Flow IAT Std</th>\n",
       "      <th>Flow IAT Max</th>\n",
       "      <th>Flow IAT Min</th>\n",
       "      <th>Fwd IAT Total</th>\n",
       "      <th>Fwd IAT Mean</th>\n",
       "      <th>Fwd IAT Std</th>\n",
       "      <th>Fwd IAT Max</th>\n",
       "      <th>Fwd IAT Min</th>\n",
       "      <th>Bwd IAT Total</th>\n",
       "      <th>Bwd IAT Mean</th>\n",
       "      <th>Bwd IAT Std</th>\n",
       "      <th>Bwd IAT Max</th>\n",
       "      <th>Bwd IAT Min</th>\n",
       "      <th>Fwd PSH Flags</th>\n",
       "      <th>Bwd PSH Flags</th>\n",
       "      <th>Fwd URG Flags</th>\n",
       "      <th>Bwd URG Flags</th>\n",
       "      <th>Fwd Header Length</th>\n",
       "      <th>Bwd Header Length</th>\n",
       "      <th>Fwd Packets/s</th>\n",
       "      <th>Bwd Packets/s</th>\n",
       "      <th>Min Packet Length</th>\n",
       "      <th>Max Packet Length</th>\n",
       "      <th>Packet Length Mean</th>\n",
       "      <th>Packet Length Std</th>\n",
       "      <th>Packet Length Variance</th>\n",
       "      <th>FIN Flag Count</th>\n",
       "      <th>SYN Flag Count</th>\n",
       "      <th>RST Flag Count</th>\n",
       "      <th>PSH Flag Count</th>\n",
       "      <th>ACK Flag Count</th>\n",
       "      <th>URG Flag Count</th>\n",
       "      <th>CWE Flag Count</th>\n",
       "      <th>ECE Flag Count</th>\n",
       "      <th>Down/Up Ratio</th>\n",
       "      <th>Average Packet Size</th>\n",
       "      <th>Avg Fwd Segment Size</th>\n",
       "      <th>Avg Bwd Segment Size</th>\n",
       "      <th>Fwd Header Length.1</th>\n",
       "      <th>Fwd Avg Bytes/Bulk</th>\n",
       "      <th>Fwd Avg Packets/Bulk</th>\n",
       "      <th>Fwd Avg Bulk Rate</th>\n",
       "      <th>Bwd Avg Bytes/Bulk</th>\n",
       "      <th>Bwd Avg Packets/Bulk</th>\n",
       "      <th>Bwd Avg Bulk Rate</th>\n",
       "      <th>Subflow Fwd Packets</th>\n",
       "      <th>Subflow Fwd Bytes</th>\n",
       "      <th>Subflow Bwd Packets</th>\n",
       "      <th>Subflow Bwd Bytes</th>\n",
       "      <th>Init_Win_bytes_forward</th>\n",
       "      <th>Init_Win_bytes_backward</th>\n",
       "      <th>act_data_pkt_fwd</th>\n",
       "      <th>min_seg_size_forward</th>\n",
       "      <th>Active Mean</th>\n",
       "      <th>Active Std</th>\n",
       "      <th>Active Max</th>\n",
       "      <th>Active Min</th>\n",
       "      <th>Idle Mean</th>\n",
       "      <th>Idle Std</th>\n",
       "      <th>Idle Max</th>\n",
       "      <th>Idle Min</th>\n",
       "    </tr>\n",
       "  </thead>\n",
       "  <tbody>\n",
       "    <tr>\n",
       "      <th>0</th>\n",
       "      <td>127.0.0.0.8888</td>\n",
       "      <td>80</td>\n",
       "      <td>78506762</td>\n",
       "      <td>8</td>\n",
       "      <td>6</td>\n",
       "      <td>56</td>\n",
       "      <td>11607</td>\n",
       "      <td>20</td>\n",
       "      <td>0</td>\n",
       "      <td>7</td>\n",
       "      <td>5.656854</td>\n",
       "      <td>4380</td>\n",
       "      <td>0</td>\n",
       "      <td>1934.5</td>\n",
       "      <td>2177.344966</td>\n",
       "      <td>148.560451</td>\n",
       "      <td>0.178329</td>\n",
       "      <td>6038981.692</td>\n",
       "      <td>20500000</td>\n",
       "      <td>74200000</td>\n",
       "      <td>1</td>\n",
       "      <td>78400000</td>\n",
       "      <td>11200000</td>\n",
       "      <td>27800000</td>\n",
       "      <td>74200000</td>\n",
       "      <td>1</td>\n",
       "      <td>127618</td>\n",
       "      <td>25523.6</td>\n",
       "      <td>56451.90237</td>\n",
       "      <td>126506</td>\n",
       "      <td>16</td>\n",
       "      <td>0</td>\n",
       "      <td>0</td>\n",
       "      <td>0</td>\n",
       "      <td>0</td>\n",
       "      <td>172</td>\n",
       "      <td>132</td>\n",
       "      <td>0.101902</td>\n",
       "      <td>0.076427</td>\n",
       "      <td>0</td>\n",
       "      <td>4380</td>\n",
       "      <td>777.933333</td>\n",
       "      <td>1627.46176</td>\n",
       "      <td>2648631.781</td>\n",
       "      <td>0</td>\n",
       "      <td>0</td>\n",
       "      <td>0</td>\n",
       "      <td>0</td>\n",
       "      <td>1</td>\n",
       "      <td>0</td>\n",
       "      <td>0</td>\n",
       "      <td>0</td>\n",
       "      <td>0</td>\n",
       "      <td>833.5</td>\n",
       "      <td>7</td>\n",
       "      <td>1934.5</td>\n",
       "      <td>172</td>\n",
       "      <td>0</td>\n",
       "      <td>0</td>\n",
       "      <td>0</td>\n",
       "      <td>0</td>\n",
       "      <td>0</td>\n",
       "      <td>0</td>\n",
       "      <td>8</td>\n",
       "      <td>56</td>\n",
       "      <td>6</td>\n",
       "      <td>11607</td>\n",
       "      <td>256</td>\n",
       "      <td>229</td>\n",
       "      <td>6</td>\n",
       "      <td>20</td>\n",
       "      <td>4172925</td>\n",
       "      <td>0</td>\n",
       "      <td>4172925</td>\n",
       "      <td>4172925</td>\n",
       "      <td>74200000</td>\n",
       "      <td>0</td>\n",
       "      <td>74200000</td>\n",
       "      <td>74200000</td>\n",
       "    </tr>\n",
       "  </tbody>\n",
       "</table>\n",
       "</div>"
      ],
      "text/plain": [
       "               IP  Destination Port  Flow Duration  Total Fwd Packets  \\\n",
       "0  127.0.0.0.8888                80       78506762                  8   \n",
       "\n",
       "   Total Backward Packets  Total Length of Fwd Packets  \\\n",
       "0                       6                           56   \n",
       "\n",
       "   Total Length of Bwd Packets  Fwd Packet Length Max  Fwd Packet Length Min  \\\n",
       "0                        11607                     20                      0   \n",
       "\n",
       "   Fwd Packet Length Mean  Fwd Packet Length Std  Bwd Packet Length Max  \\\n",
       "0                       7               5.656854                   4380   \n",
       "\n",
       "   Bwd Packet Length Min  Bwd Packet Length Mean  Bwd Packet Length Std  \\\n",
       "0                      0                  1934.5            2177.344966   \n",
       "\n",
       "   Flow Bytes/s  Flow Packets/s  Flow IAT Mean  Flow IAT Std  Flow IAT Max  \\\n",
       "0    148.560451        0.178329    6038981.692      20500000      74200000   \n",
       "\n",
       "   Flow IAT Min  Fwd IAT Total  Fwd IAT Mean  Fwd IAT Std  Fwd IAT Max  \\\n",
       "0             1       78400000      11200000     27800000     74200000   \n",
       "\n",
       "   Fwd IAT Min  Bwd IAT Total  Bwd IAT Mean  Bwd IAT Std  Bwd IAT Max  \\\n",
       "0            1         127618       25523.6  56451.90237       126506   \n",
       "\n",
       "   Bwd IAT Min  Fwd PSH Flags  Bwd PSH Flags  Fwd URG Flags  Bwd URG Flags  \\\n",
       "0           16              0              0              0              0   \n",
       "\n",
       "   Fwd Header Length  Bwd Header Length  Fwd Packets/s  Bwd Packets/s  \\\n",
       "0                172                132       0.101902       0.076427   \n",
       "\n",
       "   Min Packet Length  Max Packet Length  Packet Length Mean  \\\n",
       "0                  0               4380          777.933333   \n",
       "\n",
       "   Packet Length Std  Packet Length Variance  FIN Flag Count  SYN Flag Count  \\\n",
       "0         1627.46176             2648631.781               0               0   \n",
       "\n",
       "   RST Flag Count  PSH Flag Count  ACK Flag Count  URG Flag Count  \\\n",
       "0               0               0               1               0   \n",
       "\n",
       "   CWE Flag Count  ECE Flag Count  Down/Up Ratio  Average Packet Size  \\\n",
       "0               0               0              0                833.5   \n",
       "\n",
       "   Avg Fwd Segment Size  Avg Bwd Segment Size  Fwd Header Length.1  \\\n",
       "0                     7                1934.5                  172   \n",
       "\n",
       "   Fwd Avg Bytes/Bulk  Fwd Avg Packets/Bulk  Fwd Avg Bulk Rate  \\\n",
       "0                   0                     0                  0   \n",
       "\n",
       "   Bwd Avg Bytes/Bulk  Bwd Avg Packets/Bulk  Bwd Avg Bulk Rate  \\\n",
       "0                   0                     0                  0   \n",
       "\n",
       "   Subflow Fwd Packets  Subflow Fwd Bytes  Subflow Bwd Packets  \\\n",
       "0                    8                 56                    6   \n",
       "\n",
       "   Subflow Bwd Bytes  Init_Win_bytes_forward  Init_Win_bytes_backward  \\\n",
       "0              11607                     256                      229   \n",
       "\n",
       "   act_data_pkt_fwd  min_seg_size_forward  Active Mean  Active Std  \\\n",
       "0                 6                    20      4172925           0   \n",
       "\n",
       "   Active Max  Active Min  Idle Mean  Idle Std  Idle Max  Idle Min  \n",
       "0     4172925     4172925   74200000         0  74200000  74200000  "
      ]
     },
     "execution_count": 17,
     "metadata": {},
     "output_type": "execute_result"
    }
   ],
   "source": [
    "test_data = pd.read_csv(\"user_input/sample_6.csv\")\n",
    "test_data.columns = [col.strip() for col in test_data.columns]\n",
    "test_data.head()"
   ]
  },
  {
   "cell_type": "code",
   "execution_count": 18,
   "metadata": {},
   "outputs": [
    {
     "name": "stdout",
     "output_type": "stream",
     "text": [
      "127.0.0.0.8888\n"
     ]
    }
   ],
   "source": [
    "request_ip = str(test_data['IP'].values.tolist()[0])\n",
    "print(request_ip)"
   ]
  },
  {
   "cell_type": "code",
   "execution_count": 19,
   "metadata": {
    "colab": {
     "base_uri": "https://localhost:8080/",
     "height": 153
    },
    "executionInfo": {
     "elapsed": 11,
     "status": "ok",
     "timestamp": 1697527344075,
     "user": {
      "displayName": "Pulavendran S",
      "userId": "09545379829326731753"
     },
     "user_tz": -330
    },
    "id": "wh9Gy-pIZ1Jt",
    "outputId": "273a95be-ebac-4706-822f-32db72f1ccf0"
   },
   "outputs": [
    {
     "data": {
      "text/html": [
       "<div>\n",
       "<style scoped>\n",
       "    .dataframe tbody tr th:only-of-type {\n",
       "        vertical-align: middle;\n",
       "    }\n",
       "\n",
       "    .dataframe tbody tr th {\n",
       "        vertical-align: top;\n",
       "    }\n",
       "\n",
       "    .dataframe thead th {\n",
       "        text-align: right;\n",
       "    }\n",
       "</style>\n",
       "<table border=\"1\" class=\"dataframe\">\n",
       "  <thead>\n",
       "    <tr style=\"text-align: right;\">\n",
       "      <th></th>\n",
       "      <th>Bwd Packet Length Mean</th>\n",
       "      <th>Avg Bwd Segment Size</th>\n",
       "      <th>Bwd Packet Length Max</th>\n",
       "      <th>Bwd Packet Length Std</th>\n",
       "      <th>Destination Port</th>\n",
       "      <th>URG Flag Count</th>\n",
       "      <th>Packet Length Mean</th>\n",
       "      <th>Average Packet Size</th>\n",
       "      <th>Packet Length Std</th>\n",
       "      <th>Min Packet Length</th>\n",
       "      <th>Max Packet Length</th>\n",
       "      <th>Packet Length Variance</th>\n",
       "      <th>min_seg_size_forward</th>\n",
       "      <th>Bwd Packet Length Min</th>\n",
       "      <th>Avg Fwd Segment Size</th>\n",
       "      <th>Fwd Packet Length Mean</th>\n",
       "      <th>Fwd Packet Length Max</th>\n",
       "      <th>Total Length of Fwd Packets</th>\n",
       "      <th>Subflow Fwd Bytes</th>\n",
       "      <th>Bwd IAT Total</th>\n",
       "    </tr>\n",
       "  </thead>\n",
       "  <tbody>\n",
       "    <tr>\n",
       "      <th>0</th>\n",
       "      <td>1934.5</td>\n",
       "      <td>1934.5</td>\n",
       "      <td>4380</td>\n",
       "      <td>2177.344966</td>\n",
       "      <td>80</td>\n",
       "      <td>0</td>\n",
       "      <td>777.933333</td>\n",
       "      <td>833.5</td>\n",
       "      <td>1627.46176</td>\n",
       "      <td>0</td>\n",
       "      <td>4380</td>\n",
       "      <td>2648631.781</td>\n",
       "      <td>20</td>\n",
       "      <td>0</td>\n",
       "      <td>7</td>\n",
       "      <td>7</td>\n",
       "      <td>20</td>\n",
       "      <td>56</td>\n",
       "      <td>56</td>\n",
       "      <td>127618</td>\n",
       "    </tr>\n",
       "  </tbody>\n",
       "</table>\n",
       "</div>"
      ],
      "text/plain": [
       "   Bwd Packet Length Mean  Avg Bwd Segment Size  Bwd Packet Length Max  \\\n",
       "0                  1934.5                1934.5                   4380   \n",
       "\n",
       "   Bwd Packet Length Std  Destination Port  URG Flag Count  \\\n",
       "0            2177.344966                80               0   \n",
       "\n",
       "   Packet Length Mean  Average Packet Size  Packet Length Std  \\\n",
       "0          777.933333                833.5         1627.46176   \n",
       "\n",
       "   Min Packet Length  Max Packet Length  Packet Length Variance  \\\n",
       "0                  0               4380             2648631.781   \n",
       "\n",
       "   min_seg_size_forward  Bwd Packet Length Min  Avg Fwd Segment Size  \\\n",
       "0                    20                      0                     7   \n",
       "\n",
       "   Fwd Packet Length Mean  Fwd Packet Length Max  Total Length of Fwd Packets  \\\n",
       "0                       7                     20                           56   \n",
       "\n",
       "   Subflow Fwd Bytes  Bwd IAT Total  \n",
       "0                 56         127618  "
      ]
     },
     "execution_count": 19,
     "metadata": {},
     "output_type": "execute_result"
    }
   ],
   "source": [
    "test_data = test_data[imp_cols]\n",
    "test_data"
   ]
  },
  {
   "cell_type": "code",
   "execution_count": 20,
   "metadata": {
    "colab": {
     "base_uri": "https://localhost:8080/",
     "height": 153
    },
    "executionInfo": {
     "elapsed": 10,
     "status": "ok",
     "timestamp": 1697527344076,
     "user": {
      "displayName": "Pulavendran S",
      "userId": "09545379829326731753"
     },
     "user_tz": -330
    },
    "id": "ky4CoI6sa-hf",
    "outputId": "92a3e04c-0461-4abc-fe88-5ed99f27a7fd"
   },
   "outputs": [
    {
     "data": {
      "text/html": [
       "<div>\n",
       "<style scoped>\n",
       "    .dataframe tbody tr th:only-of-type {\n",
       "        vertical-align: middle;\n",
       "    }\n",
       "\n",
       "    .dataframe tbody tr th {\n",
       "        vertical-align: top;\n",
       "    }\n",
       "\n",
       "    .dataframe thead th {\n",
       "        text-align: right;\n",
       "    }\n",
       "</style>\n",
       "<table border=\"1\" class=\"dataframe\">\n",
       "  <thead>\n",
       "    <tr style=\"text-align: right;\">\n",
       "      <th></th>\n",
       "      <th>Bwd Packet Length Mean</th>\n",
       "      <th>Avg Bwd Segment Size</th>\n",
       "      <th>Bwd Packet Length Max</th>\n",
       "      <th>Bwd Packet Length Std</th>\n",
       "      <th>Destination Port</th>\n",
       "      <th>URG Flag Count</th>\n",
       "      <th>Packet Length Mean</th>\n",
       "      <th>Average Packet Size</th>\n",
       "      <th>Packet Length Std</th>\n",
       "      <th>Min Packet Length</th>\n",
       "      <th>Max Packet Length</th>\n",
       "      <th>Packet Length Variance</th>\n",
       "      <th>min_seg_size_forward</th>\n",
       "      <th>Bwd Packet Length Min</th>\n",
       "      <th>Avg Fwd Segment Size</th>\n",
       "      <th>Fwd Packet Length Mean</th>\n",
       "      <th>Fwd Packet Length Max</th>\n",
       "      <th>Total Length of Fwd Packets</th>\n",
       "      <th>Subflow Fwd Bytes</th>\n",
       "      <th>Bwd IAT Total</th>\n",
       "    </tr>\n",
       "  </thead>\n",
       "  <tbody>\n",
       "    <tr>\n",
       "      <th>0</th>\n",
       "      <td>0.333506</td>\n",
       "      <td>0.333506</td>\n",
       "      <td>0.375</td>\n",
       "      <td>0.265703</td>\n",
       "      <td>0.001221</td>\n",
       "      <td>0.0</td>\n",
       "      <td>0.401652</td>\n",
       "      <td>0.329707</td>\n",
       "      <td>0.343962</td>\n",
       "      <td>0.0</td>\n",
       "      <td>0.375</td>\n",
       "      <td>0.118242</td>\n",
       "      <td>0.384615</td>\n",
       "      <td>0.0</td>\n",
       "      <td>0.00181</td>\n",
       "      <td>0.00181</td>\n",
       "      <td>0.001712</td>\n",
       "      <td>0.000306</td>\n",
       "      <td>0.000306</td>\n",
       "      <td>0.001063</td>\n",
       "    </tr>\n",
       "  </tbody>\n",
       "</table>\n",
       "</div>"
      ],
      "text/plain": [
       "   Bwd Packet Length Mean  Avg Bwd Segment Size  Bwd Packet Length Max  \\\n",
       "0                0.333506              0.333506                  0.375   \n",
       "\n",
       "   Bwd Packet Length Std  Destination Port  URG Flag Count  \\\n",
       "0               0.265703          0.001221             0.0   \n",
       "\n",
       "   Packet Length Mean  Average Packet Size  Packet Length Std  \\\n",
       "0            0.401652             0.329707           0.343962   \n",
       "\n",
       "   Min Packet Length  Max Packet Length  Packet Length Variance  \\\n",
       "0                0.0              0.375                0.118242   \n",
       "\n",
       "   min_seg_size_forward  Bwd Packet Length Min  Avg Fwd Segment Size  \\\n",
       "0              0.384615                    0.0               0.00181   \n",
       "\n",
       "   Fwd Packet Length Mean  Fwd Packet Length Max  Total Length of Fwd Packets  \\\n",
       "0                 0.00181               0.001712                     0.000306   \n",
       "\n",
       "   Subflow Fwd Bytes  Bwd IAT Total  \n",
       "0           0.000306       0.001063  "
      ]
     },
     "execution_count": 20,
     "metadata": {},
     "output_type": "execute_result"
    }
   ],
   "source": [
    "scaled_input_=scaler.transform(test_data)\n",
    "test_data=pd.DataFrame(data=scaled_input_,columns=imp_cols)\n",
    "test_data.head()"
   ]
  },
  {
   "cell_type": "markdown",
   "metadata": {
    "id": "4nzB8U-pOcz_"
   },
   "source": [
    "### Model Prediction"
   ]
  },
  {
   "cell_type": "code",
   "execution_count": 21,
   "metadata": {
    "colab": {
     "base_uri": "https://localhost:8080/"
    },
    "executionInfo": {
     "elapsed": 870,
     "status": "ok",
     "timestamp": 1697527346071,
     "user": {
      "displayName": "Pulavendran S",
      "userId": "09545379829326731753"
     },
     "user_tz": -330
    },
    "id": "evCNgvYwOVYg",
    "outputId": "a99f88e1-a639-44fc-e923-a9da88c093c8"
   },
   "outputs": [
    {
     "name": "stdout",
     "output_type": "stream",
     "text": [
      "1/1 [==============================] - 0s 33ms/step\n",
      "Email sent sucessfully 📌\n",
      "\n",
      "CLASS LABEL : [1]\n",
      "CLASS NAME : DDos\n",
      "PROBABILITY : 100.0000%\n",
      "\n"
     ]
    },
    {
     "data": {
      "text/html": [
       "<div>\n",
       "<style scoped>\n",
       "    .dataframe tbody tr th:only-of-type {\n",
       "        vertical-align: middle;\n",
       "    }\n",
       "\n",
       "    .dataframe tbody tr th {\n",
       "        vertical-align: top;\n",
       "    }\n",
       "\n",
       "    .dataframe thead th {\n",
       "        text-align: right;\n",
       "    }\n",
       "</style>\n",
       "<table border=\"1\" class=\"dataframe\">\n",
       "  <thead>\n",
       "    <tr style=\"text-align: right;\">\n",
       "      <th></th>\n",
       "      <th>Ip_Addresses</th>\n",
       "    </tr>\n",
       "  </thead>\n",
       "  <tbody>\n",
       "    <tr>\n",
       "      <th>0</th>\n",
       "      <td>13.224.224.255</td>\n",
       "    </tr>\n",
       "    <tr>\n",
       "      <th>1</th>\n",
       "      <td>127.0.0.0.8888</td>\n",
       "    </tr>\n",
       "  </tbody>\n",
       "</table>\n",
       "</div>"
      ],
      "text/plain": [
       "     Ip_Addresses\n",
       "0  13.224.224.255\n",
       "1  127.0.0.0.8888"
      ]
     },
     "execution_count": 21,
     "metadata": {},
     "output_type": "execute_result"
    }
   ],
   "source": [
    "model_prediction = model.predict(test_data.values, verbose=1)\n",
    "class_label = np.argmax(model_prediction, axis=1)\n",
    "class_name = class_labels[class_label[0]]\n",
    "probability = f\"{(model_prediction[0][class_label[0]])*100.0:.4f}%\"\n",
    "\n",
    "if class_name != 'BENIGN':\n",
    "    user = yagmail.SMTP(user='shreyaskatokar@gmail.com',password='dohkkncralrhsycw')\n",
    "    user.send(to='shreyaskatokar@gmail.com',subject='⚠️ALERT⚠️',contents=f\"Intrusion request found from the IP: {request_ip}\")\n",
    "    print(\"Email sent sucessfully 📌\")\n",
    "    \n",
    "    new_row = {'Ip_Addresses': request_ip}\n",
    "    IP_data = IP_data.append(new_row, ignore_index=True)\n",
    "    IP_data.to_csv(\"user_input/IP_data.csv\", index=False)\n",
    "    IP_data = pd.read_csv(\"user_input/IP_data.csv\")\n",
    "\n",
    "print(f\"\\nCLASS LABEL : {class_label}\")\n",
    "print(f\"CLASS NAME : {class_name}\")\n",
    "print(f\"PROBABILITY : {probability}\\n\")\n",
    "IP_data.head(100)"
   ]
  },
  {
   "cell_type": "markdown",
   "metadata": {
    "id": "TQd0UZCyZGgj"
   },
   "source": [
    "---"
   ]
  }
 ],
 "metadata": {
  "colab": {
   "authorship_tag": "ABX9TyMea9iYp2lGjKdJ0jcbWTot",
   "provenance": []
  },
  "kernelspec": {
   "display_name": "Python 3 (ipykernel)",
   "language": "python",
   "name": "python3"
  },
  "language_info": {
   "codemirror_mode": {
    "name": "ipython",
    "version": 3
   },
   "file_extension": ".py",
   "mimetype": "text/x-python",
   "name": "python",
   "nbconvert_exporter": "python",
   "pygments_lexer": "ipython3",
   "version": "3.9.7"
  }
 },
 "nbformat": 4,
 "nbformat_minor": 4
}
